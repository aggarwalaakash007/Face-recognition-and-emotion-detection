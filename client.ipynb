{
 "cells": [
  {
   "cell_type": "code",
   "execution_count": null,
   "metadata": {},
   "outputs": [],
   "source": [
    "import socket\n",
    "import _pickle as cPickle\n",
    "import struct\n",
    "import utils\n",
    "import cv2\n",
    "from util import *\n",
    "from face_new import *\n",
    "import time"
   ]
  },
  {
   "cell_type": "code",
   "execution_count": null,
   "metadata": {},
   "outputs": [],
   "source": [
    "cap = cv2.VideoCapture(0)\n",
    "host = socket.gethostname()\n",
    "port = 12001           # Reserve a port for your service.\n",
    "s = socket.socket()\n",
    "s.connect((host, port))\n",
    "i =0\n",
    "while True:\n",
    "    ret, frame=cap.read()\n",
    "    print(frame.shape)\n",
    "    small_frame1 = cv2.resize(frame, (0, 0), fx=0.25, fy=0.25)\n",
    "    res , small_frame = cv2.imencode('.jpg', small_frame1)\n",
    "    send_one_message(s, small_frame)\n",
    "    emotion_window = recv_one_message(s)\n",
    "    face_id = recv_one_message(s)\n",
    "    face_location = recv_one_message(s)\n",
    "    i = recv_one_message(s)\n",
    "    print(i)\n",
    "    if i != 0:\n",
    "        print(face_id)\n",
    "        frame = final_frame(frame , face_id , face_location , emotion_window)\n",
    "        \n",
    "    print(2)\n",
    "    print(frame.shape)\n",
    "    cv2.imshow('video' , frame)\n",
    "    if cv2.waitKey(1)&0xFF == ord('q'):\n",
    "        break\n",
    "    \n",
    "cap.release()\n",
    "cv2.destroyAllWindows()\n",
    "    \n",
    "    "
   ]
  },
  {
   "cell_type": "code",
   "execution_count": null,
   "metadata": {
    "collapsed": true
   },
   "outputs": [],
   "source": []
  }
 ],
 "metadata": {
  "kernelspec": {
   "display_name": "Python 3",
   "language": "python",
   "name": "python3"
  },
  "language_info": {
   "codemirror_mode": {
    "name": "ipython",
    "version": 3
   },
   "file_extension": ".py",
   "mimetype": "text/x-python",
   "name": "python",
   "nbconvert_exporter": "python",
   "pygments_lexer": "ipython3",
   "version": "3.6.3"
  }
 },
 "nbformat": 4,
 "nbformat_minor": 2
}
