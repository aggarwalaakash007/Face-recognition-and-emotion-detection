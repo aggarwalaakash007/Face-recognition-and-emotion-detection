{
 "cells": [
  {
   "cell_type": "code",
   "execution_count": null,
   "metadata": {},
   "outputs": [],
   "source": [
    "import socket\n",
    "import _pickle as cPickle\n",
    "import struct\n",
    "import utils\n",
    "from util import *\n",
    "from face_new import *\n",
    "import time\n",
    "from twilio.rest import Client"
   ]
  },
  {
   "cell_type": "code",
   "execution_count": null,
   "metadata": {},
   "outputs": [],
   "source": [
    "s = socket.socket()\n",
    "port = 12001\n",
    "s.bind(('', port))\n",
    "s.listen(5)                 # Now wait for client connection.\n",
    "print(\"Listening.....\")\n",
    "conn, addr = s.accept()\n",
    "temp = []\n",
    "temp.append('Obama')\n",
    "emotion_model_path = 'trained_models/emotion_models/fer2013_mini_XCEPTION.102-0.66.hdf5'\n",
    "emotion_labels = get_labels('fer2013')\n",
    "font = cv2.FONT_HERSHEY_SIMPLEX\n",
    "color = (0,0,255)\n",
    "# hyper-parameters for bounding boxes shape\n",
    "frame_window = 10\n",
    "emotion_offsets = (20, 40)\n",
    "\n",
    "# loading models\n",
    "emotion_classifier = load_model(emotion_model_path, compile=False)\n",
    "\n",
    "\n",
    "# getting input model shapes for inference\n",
    "emotion_target_size = emotion_classifier.input_shape[1:3]\n",
    "\n",
    "\n",
    "# starting lists for calculating modes\n",
    "emotion_window = []\n",
    "while True:\n",
    "    msg = recv_one_message(conn)\n",
    "    small_frame = cv2.imdecode(msg,1)\n",
    "    face_id, count1, count, known_face_ids, known_face_encodings, id2text, i, face_location = model(small_frame)\n",
    "    emotion_window = emotion_detection(small_frame, emotion_classifier, emotion_target_size, emotion_labels, face_location)  \n",
    "    send_one_message(conn , emotion_window)\n",
    "    send_one_message(conn , face_id)\n",
    "    send_one_message(conn , face_location)\n",
    "    send_one_message(conn, i)\n",
    "    #print(count)\n",
    "    #print(count1)\n",
    "    if count1 != count:\n",
    "        save_embeddings(\"data/embd.txt\",known_face_ids,known_face_encodings, \"data/id2text.txt\", id2text)\n",
    "    #for name in face_id:\n",
    "        #if name not in temp:\n",
    "            #accountSid = 'AC2040943c6ef4feae0904b45d49ac9ff0'\n",
    "            #authToken = 'ce4863c950fa80c423622e4feba5c5eb'\n",
    "            #twilioClient = Client(accountSid, authToken)\n",
    "            #myTwilioNumber = '+18283656068'\n",
    "            #destCellPhone = '+919637827159'\n",
    "            #myMessage = twilioClient.messages.create(body = \"Welcome customer\", from_=myTwilioNumber, to=destCellPhone)\n",
    "            #temp.append(name)"
   ]
  },
  {
   "cell_type": "code",
   "execution_count": null,
   "metadata": {
    "collapsed": true
   },
   "outputs": [],
   "source": []
  },
  {
   "cell_type": "code",
   "execution_count": null,
   "metadata": {
    "collapsed": true
   },
   "outputs": [],
   "source": []
  }
 ],
 "metadata": {
  "kernelspec": {
   "display_name": "Python 3",
   "language": "python",
   "name": "python3"
  },
  "language_info": {
   "codemirror_mode": {
    "name": "ipython",
    "version": 3
   },
   "file_extension": ".py",
   "mimetype": "text/x-python",
   "name": "python",
   "nbconvert_exporter": "python",
   "pygments_lexer": "ipython3",
   "version": "3.6.3"
  }
 },
 "nbformat": 4,
 "nbformat_minor": 2
}
